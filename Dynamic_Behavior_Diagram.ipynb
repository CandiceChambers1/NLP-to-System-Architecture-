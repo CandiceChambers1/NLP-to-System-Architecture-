{
  "nbformat": 4,
  "nbformat_minor": 0,
  "metadata": {
    "colab": {
      "name": "Dynamic Behavior Diagram.ipynb",
      "provenance": []
    },
    "kernelspec": {
      "name": "python3",
      "display_name": "Python 3"
    },
    "language_info": {
      "name": "python"
    }
  },
  "cells": [
    {
      "cell_type": "markdown",
      "source": [
        "## Dynamic Behavior of a Systems"
      ],
      "metadata": {
        "id": "wlfSvfyuFhYW"
      }
    },
    {
      "cell_type": "markdown",
      "source": [
        "### Downloads"
      ],
      "metadata": {
        "id": "NGbOLyxjDT47"
      }
    },
    {
      "cell_type": "code",
      "source": [
        "!pip install -U pip setuptools wheel\n",
        "!pip install -U spacy\n",
        "!python -m spacy download en_core_web_sm"
      ],
      "metadata": {
        "id": "onW2VEBTZgpj",
        "colab": {
          "base_uri": "https://localhost:8080/"
        },
        "outputId": "00fe8fd2-bb8e-4904-c6df-83cefbe8e6ef"
      },
      "execution_count": 1,
      "outputs": [
        {
          "output_type": "stream",
          "name": "stdout",
          "text": [
            "Requirement already satisfied: pip in /usr/local/lib/python3.7/dist-packages (22.0.4)\n",
            "Requirement already satisfied: setuptools in /usr/local/lib/python3.7/dist-packages (61.3.0)\n",
            "Requirement already satisfied: wheel in /usr/local/lib/python3.7/dist-packages (0.37.1)\n",
            "\u001b[33mWARNING: Running pip as the 'root' user can result in broken permissions and conflicting behaviour with the system package manager. It is recommended to use a virtual environment instead: https://pip.pypa.io/warnings/venv\u001b[0m\u001b[33m\n",
            "\u001b[0mRequirement already satisfied: spacy in /usr/local/lib/python3.7/dist-packages (3.2.4)\n",
            "Requirement already satisfied: tqdm<5.0.0,>=4.38.0 in /usr/local/lib/python3.7/dist-packages (from spacy) (4.63.0)\n",
            "Requirement already satisfied: requests<3.0.0,>=2.13.0 in /usr/local/lib/python3.7/dist-packages (from spacy) (2.23.0)\n",
            "Requirement already satisfied: catalogue<2.1.0,>=2.0.6 in /usr/local/lib/python3.7/dist-packages (from spacy) (2.0.7)\n",
            "Requirement already satisfied: langcodes<4.0.0,>=3.2.0 in /usr/local/lib/python3.7/dist-packages (from spacy) (3.3.0)\n",
            "Requirement already satisfied: spacy-legacy<3.1.0,>=3.0.8 in /usr/local/lib/python3.7/dist-packages (from spacy) (3.0.9)\n",
            "Requirement already satisfied: pathy>=0.3.5 in /usr/local/lib/python3.7/dist-packages (from spacy) (0.6.1)\n",
            "Requirement already satisfied: pydantic!=1.8,!=1.8.1,<1.9.0,>=1.7.4 in /usr/local/lib/python3.7/dist-packages (from spacy) (1.8.2)\n",
            "Requirement already satisfied: setuptools in /usr/local/lib/python3.7/dist-packages (from spacy) (61.3.0)\n",
            "Requirement already satisfied: thinc<8.1.0,>=8.0.12 in /usr/local/lib/python3.7/dist-packages (from spacy) (8.0.15)\n",
            "Requirement already satisfied: cymem<2.1.0,>=2.0.2 in /usr/local/lib/python3.7/dist-packages (from spacy) (2.0.6)\n",
            "Requirement already satisfied: numpy>=1.15.0 in /usr/local/lib/python3.7/dist-packages (from spacy) (1.21.5)\n",
            "Requirement already satisfied: typing-extensions<4.0.0.0,>=3.7.4 in /usr/local/lib/python3.7/dist-packages (from spacy) (3.10.0.2)\n",
            "Requirement already satisfied: typer<0.5.0,>=0.3.0 in /usr/local/lib/python3.7/dist-packages (from spacy) (0.4.1)\n",
            "Requirement already satisfied: wasabi<1.1.0,>=0.8.1 in /usr/local/lib/python3.7/dist-packages (from spacy) (0.9.0)\n",
            "Requirement already satisfied: murmurhash<1.1.0,>=0.28.0 in /usr/local/lib/python3.7/dist-packages (from spacy) (1.0.6)\n",
            "Requirement already satisfied: blis<0.8.0,>=0.4.0 in /usr/local/lib/python3.7/dist-packages (from spacy) (0.4.1)\n",
            "Requirement already satisfied: srsly<3.0.0,>=2.4.1 in /usr/local/lib/python3.7/dist-packages (from spacy) (2.4.2)\n",
            "Requirement already satisfied: click<8.1.0 in /usr/local/lib/python3.7/dist-packages (from spacy) (7.1.2)\n",
            "Requirement already satisfied: spacy-loggers<2.0.0,>=1.0.0 in /usr/local/lib/python3.7/dist-packages (from spacy) (1.0.2)\n",
            "Requirement already satisfied: preshed<3.1.0,>=3.0.2 in /usr/local/lib/python3.7/dist-packages (from spacy) (3.0.6)\n",
            "Requirement already satisfied: jinja2 in /usr/local/lib/python3.7/dist-packages (from spacy) (2.11.3)\n",
            "Requirement already satisfied: packaging>=20.0 in /usr/local/lib/python3.7/dist-packages (from spacy) (21.3)\n",
            "Requirement already satisfied: zipp>=0.5 in /usr/local/lib/python3.7/dist-packages (from catalogue<2.1.0,>=2.0.6->spacy) (3.7.0)\n",
            "Requirement already satisfied: pyparsing!=3.0.5,>=2.0.2 in /usr/local/lib/python3.7/dist-packages (from packaging>=20.0->spacy) (3.0.7)\n",
            "Requirement already satisfied: smart-open<6.0.0,>=5.0.0 in /usr/local/lib/python3.7/dist-packages (from pathy>=0.3.5->spacy) (5.2.1)\n",
            "Requirement already satisfied: urllib3!=1.25.0,!=1.25.1,<1.26,>=1.21.1 in /usr/local/lib/python3.7/dist-packages (from requests<3.0.0,>=2.13.0->spacy) (1.24.3)\n",
            "Requirement already satisfied: chardet<4,>=3.0.2 in /usr/local/lib/python3.7/dist-packages (from requests<3.0.0,>=2.13.0->spacy) (3.0.4)\n",
            "Requirement already satisfied: certifi>=2017.4.17 in /usr/local/lib/python3.7/dist-packages (from requests<3.0.0,>=2.13.0->spacy) (2021.10.8)\n",
            "Requirement already satisfied: idna<3,>=2.5 in /usr/local/lib/python3.7/dist-packages (from requests<3.0.0,>=2.13.0->spacy) (2.10)\n",
            "Requirement already satisfied: MarkupSafe>=0.23 in /usr/local/lib/python3.7/dist-packages (from jinja2->spacy) (2.0.1)\n",
            "\u001b[33mWARNING: Running pip as the 'root' user can result in broken permissions and conflicting behaviour with the system package manager. It is recommended to use a virtual environment instead: https://pip.pypa.io/warnings/venv\u001b[0m\u001b[33m\n",
            "\u001b[0mCollecting en-core-web-sm==3.2.0\n",
            "  Downloading https://github.com/explosion/spacy-models/releases/download/en_core_web_sm-3.2.0/en_core_web_sm-3.2.0-py3-none-any.whl (13.9 MB)\n",
            "\u001b[2K     \u001b[90m━━━━━━━━━━━━━━━━━━━━━━━━━━━━━━━━━━━━━━━━\u001b[0m \u001b[32m13.9/13.9 MB\u001b[0m \u001b[31m59.6 MB/s\u001b[0m eta \u001b[36m0:00:00\u001b[0m\n",
            "\u001b[?25hRequirement already satisfied: spacy<3.3.0,>=3.2.0 in /usr/local/lib/python3.7/dist-packages (from en-core-web-sm==3.2.0) (3.2.4)\n",
            "Requirement already satisfied: srsly<3.0.0,>=2.4.1 in /usr/local/lib/python3.7/dist-packages (from spacy<3.3.0,>=3.2.0->en-core-web-sm==3.2.0) (2.4.2)\n",
            "Requirement already satisfied: spacy-legacy<3.1.0,>=3.0.8 in /usr/local/lib/python3.7/dist-packages (from spacy<3.3.0,>=3.2.0->en-core-web-sm==3.2.0) (3.0.9)\n",
            "Requirement already satisfied: jinja2 in /usr/local/lib/python3.7/dist-packages (from spacy<3.3.0,>=3.2.0->en-core-web-sm==3.2.0) (2.11.3)\n",
            "Requirement already satisfied: setuptools in /usr/local/lib/python3.7/dist-packages (from spacy<3.3.0,>=3.2.0->en-core-web-sm==3.2.0) (61.3.0)\n",
            "Requirement already satisfied: typing-extensions<4.0.0.0,>=3.7.4 in /usr/local/lib/python3.7/dist-packages (from spacy<3.3.0,>=3.2.0->en-core-web-sm==3.2.0) (3.10.0.2)\n",
            "Requirement already satisfied: wasabi<1.1.0,>=0.8.1 in /usr/local/lib/python3.7/dist-packages (from spacy<3.3.0,>=3.2.0->en-core-web-sm==3.2.0) (0.9.0)\n",
            "Requirement already satisfied: cymem<2.1.0,>=2.0.2 in /usr/local/lib/python3.7/dist-packages (from spacy<3.3.0,>=3.2.0->en-core-web-sm==3.2.0) (2.0.6)\n",
            "Requirement already satisfied: pathy>=0.3.5 in /usr/local/lib/python3.7/dist-packages (from spacy<3.3.0,>=3.2.0->en-core-web-sm==3.2.0) (0.6.1)\n",
            "Requirement already satisfied: catalogue<2.1.0,>=2.0.6 in /usr/local/lib/python3.7/dist-packages (from spacy<3.3.0,>=3.2.0->en-core-web-sm==3.2.0) (2.0.7)\n",
            "Requirement already satisfied: packaging>=20.0 in /usr/local/lib/python3.7/dist-packages (from spacy<3.3.0,>=3.2.0->en-core-web-sm==3.2.0) (21.3)\n",
            "Requirement already satisfied: pydantic!=1.8,!=1.8.1,<1.9.0,>=1.7.4 in /usr/local/lib/python3.7/dist-packages (from spacy<3.3.0,>=3.2.0->en-core-web-sm==3.2.0) (1.8.2)\n",
            "Requirement already satisfied: click<8.1.0 in /usr/local/lib/python3.7/dist-packages (from spacy<3.3.0,>=3.2.0->en-core-web-sm==3.2.0) (7.1.2)\n",
            "Requirement already satisfied: requests<3.0.0,>=2.13.0 in /usr/local/lib/python3.7/dist-packages (from spacy<3.3.0,>=3.2.0->en-core-web-sm==3.2.0) (2.23.0)\n",
            "Requirement already satisfied: langcodes<4.0.0,>=3.2.0 in /usr/local/lib/python3.7/dist-packages (from spacy<3.3.0,>=3.2.0->en-core-web-sm==3.2.0) (3.3.0)\n",
            "Requirement already satisfied: tqdm<5.0.0,>=4.38.0 in /usr/local/lib/python3.7/dist-packages (from spacy<3.3.0,>=3.2.0->en-core-web-sm==3.2.0) (4.63.0)\n",
            "Requirement already satisfied: blis<0.8.0,>=0.4.0 in /usr/local/lib/python3.7/dist-packages (from spacy<3.3.0,>=3.2.0->en-core-web-sm==3.2.0) (0.4.1)\n",
            "Requirement already satisfied: numpy>=1.15.0 in /usr/local/lib/python3.7/dist-packages (from spacy<3.3.0,>=3.2.0->en-core-web-sm==3.2.0) (1.21.5)\n",
            "Requirement already satisfied: murmurhash<1.1.0,>=0.28.0 in /usr/local/lib/python3.7/dist-packages (from spacy<3.3.0,>=3.2.0->en-core-web-sm==3.2.0) (1.0.6)\n",
            "Requirement already satisfied: typer<0.5.0,>=0.3.0 in /usr/local/lib/python3.7/dist-packages (from spacy<3.3.0,>=3.2.0->en-core-web-sm==3.2.0) (0.4.1)\n",
            "Requirement already satisfied: preshed<3.1.0,>=3.0.2 in /usr/local/lib/python3.7/dist-packages (from spacy<3.3.0,>=3.2.0->en-core-web-sm==3.2.0) (3.0.6)\n",
            "Requirement already satisfied: spacy-loggers<2.0.0,>=1.0.0 in /usr/local/lib/python3.7/dist-packages (from spacy<3.3.0,>=3.2.0->en-core-web-sm==3.2.0) (1.0.2)\n",
            "Requirement already satisfied: thinc<8.1.0,>=8.0.12 in /usr/local/lib/python3.7/dist-packages (from spacy<3.3.0,>=3.2.0->en-core-web-sm==3.2.0) (8.0.15)\n",
            "Requirement already satisfied: zipp>=0.5 in /usr/local/lib/python3.7/dist-packages (from catalogue<2.1.0,>=2.0.6->spacy<3.3.0,>=3.2.0->en-core-web-sm==3.2.0) (3.7.0)\n",
            "Requirement already satisfied: pyparsing!=3.0.5,>=2.0.2 in /usr/local/lib/python3.7/dist-packages (from packaging>=20.0->spacy<3.3.0,>=3.2.0->en-core-web-sm==3.2.0) (3.0.7)\n",
            "Requirement already satisfied: smart-open<6.0.0,>=5.0.0 in /usr/local/lib/python3.7/dist-packages (from pathy>=0.3.5->spacy<3.3.0,>=3.2.0->en-core-web-sm==3.2.0) (5.2.1)\n",
            "Requirement already satisfied: chardet<4,>=3.0.2 in /usr/local/lib/python3.7/dist-packages (from requests<3.0.0,>=2.13.0->spacy<3.3.0,>=3.2.0->en-core-web-sm==3.2.0) (3.0.4)\n",
            "Requirement already satisfied: urllib3!=1.25.0,!=1.25.1,<1.26,>=1.21.1 in /usr/local/lib/python3.7/dist-packages (from requests<3.0.0,>=2.13.0->spacy<3.3.0,>=3.2.0->en-core-web-sm==3.2.0) (1.24.3)\n",
            "Requirement already satisfied: certifi>=2017.4.17 in /usr/local/lib/python3.7/dist-packages (from requests<3.0.0,>=2.13.0->spacy<3.3.0,>=3.2.0->en-core-web-sm==3.2.0) (2021.10.8)\n",
            "Requirement already satisfied: idna<3,>=2.5 in /usr/local/lib/python3.7/dist-packages (from requests<3.0.0,>=2.13.0->spacy<3.3.0,>=3.2.0->en-core-web-sm==3.2.0) (2.10)\n",
            "Requirement already satisfied: MarkupSafe>=0.23 in /usr/local/lib/python3.7/dist-packages (from jinja2->spacy<3.3.0,>=3.2.0->en-core-web-sm==3.2.0) (2.0.1)\n",
            "\u001b[33mWARNING: Running pip as the 'root' user can result in broken permissions and conflicting behaviour with the system package manager. It is recommended to use a virtual environment instead: https://pip.pypa.io/warnings/venv\u001b[0m\u001b[33m\n",
            "\u001b[0m\u001b[38;5;2m✔ Download and installation successful\u001b[0m\n",
            "You can now load the package via spacy.load('en_core_web_sm')\n"
          ]
        }
      ]
    },
    {
      "cell_type": "code",
      "execution_count": 2,
      "metadata": {
        "colab": {
          "base_uri": "https://localhost:8080/"
        },
        "id": "rosOCFsHDG3J",
        "outputId": "a89da745-d960-4161-ae89-f9c8f5553deb"
      },
      "outputs": [
        {
          "output_type": "stream",
          "name": "stdout",
          "text": [
            "Collecting plantuml\n",
            "  Downloading plantuml-0.3.0-py3-none-any.whl (5.8 kB)\n",
            "Requirement already satisfied: httplib2 in /usr/local/lib/python3.7/dist-packages (from plantuml) (0.17.4)\n",
            "Installing collected packages: plantuml\n",
            "Successfully installed plantuml-0.3.0\n",
            "\u001b[33mWARNING: Running pip as the 'root' user can result in broken permissions and conflicting behaviour with the system package manager. It is recommended to use a virtual environment instead: https://pip.pypa.io/warnings/venv\u001b[0m\u001b[33m\n",
            "\u001b[0m"
          ]
        }
      ],
      "source": [
        "# PlantUML \n",
        "!pip install plantuml"
      ]
    },
    {
      "cell_type": "markdown",
      "source": [
        "### Imports"
      ],
      "metadata": {
        "id": "gmxo7hLkDT_U"
      }
    },
    {
      "cell_type": "code",
      "source": [
        "# Spacy Imports\n",
        "import spacy \n",
        "from spacy.lang.en import English\n",
        "\n",
        "# TextBlob Imports \n",
        "from textblob import TextBlob\n",
        "\n",
        "# nltk Imports \n",
        "import nltk\n",
        "from nltk.corpus import stopwords \n",
        "from nltk.corpus import wordnet\n",
        "from nltk.stem import PorterStemmer\n",
        "from nltk.tokenize import sent_tokenize, word_tokenize\n",
        "\n",
        "#plantUML Imports \n",
        "import plantuml\n",
        "from plantuml import PlantUML\n",
        "\n",
        "# Other Imports \n",
        "import string\n",
        "from os.path import abspath \n",
        "import collections\n",
        "from collections import defaultdict"
      ],
      "metadata": {
        "id": "kfw0J3avDrHP"
      },
      "execution_count": 2,
      "outputs": []
    },
    {
      "cell_type": "markdown",
      "source": [
        "### nltk Downloads"
      ],
      "metadata": {
        "id": "EersddAmFtT1"
      }
    },
    {
      "cell_type": "code",
      "source": [
        "nltk.download('punkt')\n",
        "nltk.download('averaged_perceptron_tagger')\n",
        "nltk.download('wordnet')\n",
        "nltk.download('omw-1.4')"
      ],
      "metadata": {
        "id": "et7BSiYJFwyN",
        "colab": {
          "base_uri": "https://localhost:8080/"
        },
        "outputId": "1c8952f2-c2d6-47c2-e0db-2648e96f2b16"
      },
      "execution_count": 3,
      "outputs": [
        {
          "output_type": "stream",
          "name": "stdout",
          "text": [
            "[nltk_data] Downloading package punkt to /root/nltk_data...\n",
            "[nltk_data]   Unzipping tokenizers/punkt.zip.\n",
            "[nltk_data] Downloading package averaged_perceptron_tagger to\n",
            "[nltk_data]     /root/nltk_data...\n",
            "[nltk_data]   Unzipping taggers/averaged_perceptron_tagger.zip.\n",
            "[nltk_data] Downloading package wordnet to /root/nltk_data...\n",
            "[nltk_data]   Unzipping corpora/wordnet.zip.\n",
            "[nltk_data] Downloading package omw-1.4 to /root/nltk_data...\n",
            "[nltk_data]   Unzipping corpora/omw-1.4.zip.\n"
          ]
        },
        {
          "output_type": "execute_result",
          "data": {
            "text/plain": [
              "True"
            ]
          },
          "metadata": {},
          "execution_count": 3
        }
      ]
    },
    {
      "cell_type": "markdown",
      "source": [
        "### Creating the function that Generate the PlantUML Code "
      ],
      "metadata": {
        "id": "42miyfBUDUBk"
      }
    },
    {
      "cell_type": "code",
      "source": [
        "text= (\"  When the condition Primary_Side is true, it transits from Start state to Pilot_Flying state.\"\n",
        "         \"  When the condition Primary_Side is true, it transits from Start state to Pilot_Flying state.\"\n",
        "         \"  When the condition Primary_Side is false, it transits from Start state to Inhibited state.\"\n",
        "         \"  The variable Inhibit_count is initialized to \"Zero\" at the Inhibited state.\"\n",
        "         \"  The variable Inhibit_count is updated to \"Inhibit_count++\" at the Inhibited state.\"\n",
        "         \"  When the condition inhibit_count>=2, it transfers from Inhibited state to Listening state.\"\n",
        "         \"  When the event Transfer_Switch occurs, transition takes place from Listening state to the Pilot_Flying state.\"\n",
        "         \"  When the event Other_Side_Pilot_Flying occurs, the transits from the Pilot_Flying state to the Inhibited state.\")"
      ],
      "metadata": {
        "id": "fbUwwzDTEDq5"
      },
      "execution_count": null,
      "outputs": []
    },
    {
      "cell_type": "code",
      "source": [
        "modified_text = ( \" When the condition Primary_Side is true, it transits from the Start state to the Pilot_Flying state.\"\n",
        "                  \" When the condition Primary_Side is false, it transits from the Start state to the Inhibited state.\"\n",
        "                  \" The variable Inhibit_count is initialized to Zero at the Inhibited state.\"\n",
        "                  \" The variable Inhibit_count is updated to Inhibit_count++ at the Inhibited state.\"\n",
        "                  \" When the condition Inhibit_count>=2 is true, it transfers from the Inhibited state to the Listening state.\"\n",
        "                  \" When the Transfer_Switch event occurs, the Listening state transitions to the Pilot_Flying state.\"\n",
        "                  \" When the Other_Side_Pilot_Flying event occurs, the Pilot_Flying transitions to the Inhibited state.\")"
      ],
      "metadata": {
        "id": "jyJBx0BsEAbg"
      },
      "execution_count": 4,
      "outputs": []
    },
    {
      "cell_type": "code",
      "source": [
        "# Checking if it is tokenizing every sentence \n",
        "sent_tokenize(modified_text)"
      ],
      "metadata": {
        "colab": {
          "base_uri": "https://localhost:8080/"
        },
        "id": "qvfF1Y2JHcPE",
        "outputId": "1c117b44-2b7f-489c-c31e-b26c31638724"
      },
      "execution_count": 5,
      "outputs": [
        {
          "output_type": "execute_result",
          "data": {
            "text/plain": [
              "[' When the condition Primary_Side is true, it transits from the Start state to the Pilot_Flying state.',\n",
              " 'When the condition Primary_Side is false, it transits from the Start state to the Inhibited state.',\n",
              " 'The variable Inhibit_count is initialized to Zero at the Inhibited state.',\n",
              " 'The variable Inhibit_count is updated to Inhibit_count++ at the Inhibited state.',\n",
              " 'When the condition Inhibit_count>=2 is true, it transfers from the Inhibited state to the Listening state.',\n",
              " 'When the Transfer_Switch event occurs, the Listening state transitions to the Pilot_Flying state.',\n",
              " 'When the Other_Side_Pilot_Flying event occurs, the Pilot_Flying transitions to the Inhibited state.']"
            ]
          },
          "metadata": {},
          "execution_count": 5
        }
      ]
    },
    {
      "cell_type": "code",
      "source": [
        "def tokenAndPOS_Tags(sent): \n",
        "  nlp = English()\n",
        "  token_sentence = nlp(sent)\n",
        "  # Allows the tokenizing of special words, this way words containing all \n",
        "  # symbols outside of the ones outlined are not seperated\n",
        "  # Eg: Inhibited_count>=2\n",
        "  suffixes = nlp.Defaults.suffixes + [r\"\\-|\\|\\$\",]\n",
        "  suffix_regex = spacy.util.compile_suffix_regex(suffixes)\n",
        "  nlp.tokenizer.suffix_search = suffix_regex.search\n",
        "\n",
        "  doc = nlp(sent)\n",
        "  token_sentence = []\n",
        "  # Extract the token and store them in the token_sentence list\n",
        "  for token in doc:\n",
        "    token_sentence.append(token.text)\n",
        "\n",
        "  # POS Tag the tokens \n",
        "  pos_tag_token = nltk.pos_tag(token_sentence)\n",
        "  \n",
        "  return token_sentence, pos_tag_token"
      ],
      "metadata": {
        "id": "2a1AsmOWcFMv"
      },
      "execution_count": 7,
      "outputs": []
    },
    {
      "cell_type": "code",
      "source": [
        "# Noun Extraction functions \n",
        "def nounExtraction(tag_tokens):\n",
        "  # Noun Extraction (only extracting Proper Nouns)\n",
        "  # Search each tag, if the tag is NNP, append that word\n",
        "  # to the list of nouns (nltk_noun)\n",
        "  nltk_nouns = []\n",
        "  for index,tuple in enumerate(tag_tokens):\n",
        "    if tuple[1] == 'NNP':\n",
        "      nltk_nouns.append(tuple[0])\n",
        "  return nltk_nouns"
      ],
      "metadata": {
        "id": "xPbi7-tUEVL6"
      },
      "execution_count": 8,
      "outputs": []
    },
    {
      "cell_type": "code",
      "source": [
        "def dynamicPlantumlCode(text):\n",
        "  \n",
        "  doc = sent_tokenize(text)\n",
        " \n",
        "  f = open('d_model_specs.txt','w')\n",
        "\n",
        "  # Needed to state what type of diagram is being constructed (State Diagram)\n",
        "  f.write(\"state Diagram {\\nhide empty description \\n[*]--> Start\\n\")\n",
        "  # Iterate sentence-by-sentence\n",
        "  for sent in doc:\n",
        "    # Call Tokenize and POS Funtion \n",
        "    token_sentence, pos_tag_token = tokenAndPOS_Tags(sent)\n",
        "\n",
        "    # Call Noun Extraction Function \n",
        "    nltk_nouns = nounExtraction(pos_tag_token)    \n",
        "\n",
        "    # if the sentence include condition and true, construct the \n",
        "    # sentence: input- current state - transition state\n",
        "    # code: current state-->transition state:[input]\n",
        "    if ((\"condition\" in token_sentence) and (\"true\" in token_sentence) is True): \n",
        "      f.write(f\"{nltk_nouns[1]}-->{nltk_nouns[2]}:[{nltk_nouns[0]}]\\n\")\n",
        "    \n",
        "    # if the sentence include condition and false, construct the \n",
        "    # sentence: input- current state - transition state\n",
        "    # code: current state --> transition state: not[input]\n",
        "    elif (\"condition\" in token_sentence) and (\"false\" in token_sentence):\n",
        "      f.write(f\"{nltk_nouns[1]}-->{nltk_nouns[2]}:not[{nltk_nouns[0]}]\\n\")\n",
        "\n",
        "    # if the sentence include variable, construct the\n",
        "    # sentence: variable name- variable assignment- variable location\n",
        "    # code: variable location:variable name= variable assignment \n",
        "    elif \"variable\" in token_sentence:\n",
        "      f.write(f\"{nltk_nouns[2]}:{nltk_nouns[0]}={nltk_nouns[1]}\\n\")\n",
        "\n",
        "    # if the sentence include event, construct the\n",
        "    # sentence: event name- current state- transition state\n",
        "    # code: current state-->transition state:event[event name]\n",
        "    elif \"event\" in token_sentence: \n",
        "      f.write(f\"{nltk_nouns[1]}-->{nltk_nouns[2]}:event[{nltk_nouns[0]}]\\n\")\n",
        "\n",
        "  # needed for creating state diagrams\n",
        "  f.write(\"}\")\n",
        "  f.close()\n"
      ],
      "metadata": {
        "id": "fu6y-Q0BQ742"
      },
      "execution_count": 9,
      "outputs": []
    },
    {
      "cell_type": "markdown",
      "source": [
        "### Generting the Dynamic Behavior Diagram"
      ],
      "metadata": {
        "id": "SYtGmnB4DUFR"
      }
    },
    {
      "cell_type": "code",
      "source": [
        "dynamicPlantumlCode(modified_text)\n",
        "server = PlantUML(url='http://www.plantuml.com/plantuml/img/',\n",
        "                          basic_auth={},\n",
        "                          form_auth={}, http_opts={}, request_opts={})\n",
        "\n",
        "server.processes_file(abspath('d_model_specs.txt')) "
      ],
      "metadata": {
        "id": "ZNBONGlmEPAP",
        "colab": {
          "base_uri": "https://localhost:8080/"
        },
        "outputId": "f809bb98-9234-477d-dc02-4d7c265480da"
      },
      "execution_count": 10,
      "outputs": [
        {
          "output_type": "execute_result",
          "data": {
            "text/plain": [
              "True"
            ]
          },
          "metadata": {},
          "execution_count": 10
        }
      ]
    }
  ]
}