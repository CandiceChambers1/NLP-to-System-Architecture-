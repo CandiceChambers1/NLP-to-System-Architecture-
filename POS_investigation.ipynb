{
  "nbformat": 4,
  "nbformat_minor": 0,
  "metadata": {
    "colab": {
      "name": "POS investigation.ipynb",
      "provenance": []
    },
    "kernelspec": {
      "name": "python3",
      "display_name": "Python 3"
    },
    "language_info": {
      "name": "python"
    }
  },
  "cells": [
    {
      "cell_type": "markdown",
      "source": [
        "## Investigative POS Tagging (nltk vs spaCy)"
      ],
      "metadata": {
        "id": "xn0cjIuOT0-b"
      }
    },
    {
      "cell_type": "markdown",
      "source": [
        "### Downloads"
      ],
      "metadata": {
        "id": "bEauQvzZUKCU"
      }
    },
    {
      "cell_type": "code",
      "source": [
        "pip install -U spacy"
      ],
      "metadata": {
        "id": "ABHy8se7UMZM"
      },
      "execution_count": null,
      "outputs": []
    },
    {
      "cell_type": "code",
      "source": [
        "pip install plantuml"
      ],
      "metadata": {
        "id": "581MWXStf-sx"
      },
      "execution_count": null,
      "outputs": []
    },
    {
      "cell_type": "markdown",
      "source": [
        "### Imports"
      ],
      "metadata": {
        "id": "pLi2tjj3UEUr"
      }
    },
    {
      "cell_type": "code",
      "execution_count": 3,
      "metadata": {
        "id": "WXC1fh4sT0RF"
      },
      "outputs": [],
      "source": [
        "# Spacy Imports\n",
        "import spacy \n",
        "from spacy.lang.en import English\n",
        "\n",
        "# TextBlob Imports \n",
        "from textblob import TextBlob\n",
        "\n",
        "# nltk Imports \n",
        "import nltk\n",
        "from nltk.corpus import stopwords \n",
        "\n",
        "#plantUML Imports \n",
        "import plantuml\n",
        "from plantuml import PlantUML\n",
        "\n",
        "# Other Imports \n",
        "import string\n",
        "from os.path import abspath"
      ]
    },
    {
      "cell_type": "markdown",
      "source": [
        "### nltk downloads"
      ],
      "metadata": {
        "id": "WKx1IxK_Uhmq"
      }
    },
    {
      "cell_type": "code",
      "source": [
        "nltk.download('punkt')"
      ],
      "metadata": {
        "id": "3cqj1Uf2UQ_l"
      },
      "execution_count": null,
      "outputs": []
    },
    {
      "cell_type": "code",
      "source": [
        "nltk.download('averaged_perceptron_tagger')"
      ],
      "metadata": {
        "id": "0qIGpXf6UPGK"
      },
      "execution_count": null,
      "outputs": []
    },
    {
      "cell_type": "markdown",
      "source": [
        "### Text POS Tags \n",
        "Investigating the POS Tagging Attribute"
      ],
      "metadata": {
        "id": "eCn7rPwKUok4"
      }
    },
    {
      "cell_type": "code",
      "source": [
        "text = \" 2.\tLR_Bus establishes connection between Left_Side_FGS and Right_Side_FGS.\"\n",
        "text = nltk.word_tokenize(text)\n",
        "l1 = nltk.pos_tag(text)\n",
        "l1"
      ],
      "metadata": {
        "colab": {
          "base_uri": "https://localhost:8080/"
        },
        "id": "46XFfvnzUngI",
        "outputId": "8b2564e2-7db2-462a-cd10-271736b7e234"
      },
      "execution_count": 20,
      "outputs": [
        {
          "output_type": "execute_result",
          "data": {
            "text/plain": [
              "[('2', 'CD'),\n",
              " ('.', '.'),\n",
              " ('LR_Bus', 'NNP'),\n",
              " ('establishes', 'VBZ'),\n",
              " ('connection', 'NN'),\n",
              " ('between', 'IN'),\n",
              " ('Left_Side_FGS', 'NNP'),\n",
              " ('and', 'CC'),\n",
              " ('Right_Side_FGS', 'NNP'),\n",
              " ('.', '.')]"
            ]
          },
          "metadata": {},
          "execution_count": 20
        }
      ]
    },
    {
      "cell_type": "code",
      "source": [
        "# Noun Extraction (only extracting Proper Nouns)\n",
        "\n",
        "nltk_nouns = []\n",
        "for index,tuple in enumerate(l1):\n",
        "  if tuple[1] == 'NNP':\n",
        "    nltk_nouns.append(tuple[0])\n",
        "\n",
        "nltk_nouns"
      ],
      "metadata": {
        "colab": {
          "base_uri": "https://localhost:8080/"
        },
        "id": "_IL9IKaoVOQi",
        "outputId": "6387db03-ba5a-4e1d-c465-cce4cb04ff3a"
      },
      "execution_count": 21,
      "outputs": [
        {
          "output_type": "execute_result",
          "data": {
            "text/plain": [
              "['LR_Bus', 'Left_Side_FGS', 'Right_Side_FGS']"
            ]
          },
          "metadata": {},
          "execution_count": 21
        }
      ]
    },
    {
      "cell_type": "markdown",
      "source": [
        "### Creating text file to store info to be runned in PlantUML "
      ],
      "metadata": {
        "id": "8CVua2WeZCv3"
      }
    },
    {
      "cell_type": "code",
      "source": [
        "# specification text\n",
        "text = (\" 1.\tThe FGS_System consists of four components: the Left_Side_FGS, the Right_Side_FGS, an LR_Bus, and an RL_Bus.\"\n",
        "        \" 2.\tLR_Bus establishes connection between Left_Side_FGS and Right_Side_FGS.\"\n",
        "        \" 3.\tRL_Bus establishes connection between Left_Side_FGS and Right_Side_FGS.\"\n",
        "        \" 4.\tThe Left_Side_FGS accepts as input a boolean value of Left_Transfer_Switch and Left_Primary_Side.\"\n",
        "        \" 5.\tThe Right_Side_FGS accepts as input a boolean value of Right_Transfer_Switch and Right_Primary_Side.\"\n",
        "        \" 6.\tThe Left_Side_FGS takes input from a synchronous clock CLK1.\"\n",
        "        \" 7.\tThe LR_Bus takes input from CLK2.\"\n",
        "        \" 8.\tThe Right_Side_FGS takes input from a synchronous clock CLK3.\"\n",
        "        \" 9.\tThe RL_Bus takes input from CLK4.\")\n"
      ],
      "metadata": {
        "id": "MEh4mI_MZCPW"
      },
      "execution_count": 23,
      "outputs": []
    },
    {
      "cell_type": "code",
      "source": [
        " from nltk.tokenize import sent_tokenize, word_tokenize\n",
        " sent_tokenize(text)"
      ],
      "metadata": {
        "colab": {
          "base_uri": "https://localhost:8080/"
        },
        "id": "k2zZT7TRdJDT",
        "outputId": "2239d053-571f-44ca-8595-878ae09040b4"
      },
      "execution_count": 24,
      "outputs": [
        {
          "output_type": "execute_result",
          "data": {
            "text/plain": [
              "[' 1.',\n",
              " 'The FGS_System consists of four components: the Left_Side_FGS, the Right_Side_FGS, an LR_Bus, and an RL_Bus.',\n",
              " '2.',\n",
              " 'LR_Bus establishes connection between Left_Side_FGS and Right_Side_FGS.',\n",
              " '3.',\n",
              " 'RL_Bus establishes connection between Left_Side_FGS and Right_Side_FGS.',\n",
              " '4.',\n",
              " 'The Left_Side_FGS accepts as input a boolean value of Left_Transfer_Switch and Left_Primary_Side.',\n",
              " '5.',\n",
              " 'The Right_Side_FGS accepts as input a boolean value of Right_Transfer_Switch and Right_Primary_Side.',\n",
              " '6.',\n",
              " 'The Left_Side_FGS takes input from a synchronous clock CLK1.',\n",
              " '7.',\n",
              " 'The LR_Bus takes input from CLK2.',\n",
              " '8.',\n",
              " 'The Right_Side_FGS takes input from a synchronous clock CLK3.',\n",
              " '9.',\n",
              " 'The RL_Bus takes input from CLK4.']"
            ]
          },
          "metadata": {},
          "execution_count": 24
        }
      ]
    },
    {
      "cell_type": "code",
      "source": [
        "# Editing or creating text file if it doesn't exists\n",
        "# Creating the code for plantuml\n",
        "\n",
        "# Used to tokenize a sentence \n",
        "doc = sent_tokenize(text)\n",
        "\n",
        "connection_num = 1\n",
        "with open('model_specs.txt', 'w') as f:\n",
        "    with open('model_specs.txt','a') as f: \n",
        "      f.write(\"skinparam nodesep 150\\n\")\n",
        "    # Iterate sentence-by-sentence then word-by-word \n",
        "    for sent in doc:\n",
        "\n",
        "      # Tokenize that sentence \n",
        "      token_sentence = []\n",
        "      token_sentence = nltk.word_tokenize(sent)\n",
        "\n",
        "      # POS Tag the tokens \n",
        "      pos_tag_token = nltk.pos_tag(token_sentence)\n",
        "\n",
        "\n",
        "      # Noun Extraction (only extracting Proper Nouns)\n",
        "\n",
        "      nltk_nouns = []\n",
        "      for index,tuple in enumerate(pos_tag_token):\n",
        "        if tuple[1] == 'NNP':\n",
        "          nltk_nouns.append(tuple[0])\n",
        "\n",
        "      # print(nltk_nouns)\n",
        "    \n",
        "      i = 1\n",
        "      j = 1\n",
        "      for word in token_sentence: \n",
        "          if i < (len(nltk_nouns)):  \n",
        "            if \"connection\" in token_sentence:\n",
        "              # print(f\"{nltk_nouns[0]}-{nltk_nouns[i]} :C{connection_num}\")\n",
        "              with open('model_specs.txt','a') as f: \n",
        "                f.write(f\"[{nltk_nouns[0]}]-[{nltk_nouns[i]}] :C{connection_num}\\n\")\n",
        "              \n",
        "              i = i+1\n",
        "              connection_num = connection_num+1\n",
        "          else: \n",
        "            break\n",
        "          \n",
        "          if j < (len(nltk_nouns)):  \n",
        "            if \"input\" in token_sentence: \n",
        "              # print(f\"{nltk_nouns[0]}-{nltk_nouns[j]}\")\n",
        "              with open('model_specs.txt', 'a') as f:     \n",
        "                f.write(f\"[{nltk_nouns[0]}]-{nltk_nouns[j]}\\n\")\n",
        "              j = j+1\n",
        "              connection_num = connection_num + 1\n",
        "          else: \n",
        "            break\n",
        "f.close()"
      ],
      "metadata": {
        "id": "e5oM6etwZc9A"
      },
      "execution_count": 25,
      "outputs": []
    },
    {
      "cell_type": "markdown",
      "source": [
        "### Creating System Diagram using plantUML"
      ],
      "metadata": {
        "id": "CGAHEhspolLv"
      }
    },
    {
      "cell_type": "code",
      "source": [
        "server = PlantUML(url='http://www.plantuml.com/plantuml/img/',\n",
        "                          basic_auth={},\n",
        "                          form_auth={}, http_opts={}, request_opts={})\n",
        "\n",
        "server.processes_file(abspath('model_specs.txt'))\n"
      ],
      "metadata": {
        "colab": {
          "base_uri": "https://localhost:8080/"
        },
        "id": "oOGDCvPyifYz",
        "outputId": "48ef4b75-bcd1-4b70-c47e-a011137b9bd5"
      },
      "execution_count": 26,
      "outputs": [
        {
          "output_type": "execute_result",
          "data": {
            "text/plain": [
              "True"
            ]
          },
          "metadata": {},
          "execution_count": 26
        }
      ]
    }
  ]
}